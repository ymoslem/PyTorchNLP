{
  "nbformat": 4,
  "nbformat_minor": 0,
  "metadata": {
    "colab": {
      "name": "2-activation-functions.ipynb",
      "provenance": [],
      "collapsed_sections": [],
      "authorship_tag": "ABX9TyP/UKtiFfCCTZmFHuusnkoO",
      "include_colab_link": true
    },
    "kernelspec": {
      "name": "python3",
      "display_name": "Python 3"
    },
    "language_info": {
      "name": "python"
    }
  },
  "cells": [
    {
      "cell_type": "markdown",
      "metadata": {
        "id": "view-in-github",
        "colab_type": "text"
      },
      "source": [
        "<a href=\"https://colab.research.google.com/github/ymoslem/PyTorchNLP/blob/main/2-activation-functions.ipynb\" target=\"_parent\"><img src=\"https://colab.research.google.com/assets/colab-badge.svg\" alt=\"Open In Colab\"/></a>"
      ]
    },
    {
      "cell_type": "markdown",
      "metadata": {
        "id": "SseRC94irgME"
      },
      "source": [
        "# Sigmoid activation function\n",
        "\n",
        "## $f{(x)}=\\frac1{1+e^{-x}}$\n",
        "\n"
      ]
    },
    {
      "cell_type": "code",
      "metadata": {
        "id": "q4NeQCae6gEZ",
        "colab": {
          "base_uri": "https://localhost:8080/",
          "height": 265
        },
        "outputId": "d0d82d66-2514-4409-e9d1-e2caaa024248"
      },
      "source": [
        "import torch\n",
        "import matplotlib.pyplot as plt\n",
        "\n",
        "x = torch.arange(-5.0, 5.0, 0.1)\n",
        "y = torch.sigmoid(x)\n",
        "\n",
        "plt.plot(x.numpy(), y.numpy())\n",
        "plt.show()"
      ],
      "execution_count": null,
      "outputs": [
        {
          "output_type": "display_data",
          "data": {
            "image/png": "[encoded data removed]",
            "text/plain": [
              "<Figure size 432x288 with 1 Axes>"
            ]
          },
          "metadata": {
            "needs_background": "light"
          }
        }
      ]
    },
    {
      "cell_type": "markdown",
      "metadata": {
        "id": "ZriAARjoxIJP"
      },
      "source": [
        "# Tanh activation function\n",
        "\n",
        "## $f{(x)=\\text{tanh}\\text{ }x}=\\frac{e^x-e^{-x}}{e^x+e^{-x}}$"
      ]
    },
    {
      "cell_type": "code",
      "metadata": {
        "colab": {
          "base_uri": "https://localhost:8080/",
          "height": 265
        },
        "id": "9NB8sA3jxMpV",
        "outputId": "dd5dfada-da5c-467e-95b0-e92597a27c8f"
      },
      "source": [
        "import torch\n",
        "import matplotlib.pyplot as plt\n",
        "\n",
        "x = torch.arange(-5.0, 5.0, 0.1)\n",
        "y = torch.tanh(x)\n",
        "\n",
        "plt.plot(x.numpy(), y.numpy())\n",
        "plt.show()"
      ],
      "execution_count": null,
      "outputs": [
        {
          "output_type": "display_data",
          "data": {
            "image/png": "[encoded data removed]",
            "text/plain": [
              "<Figure size 432x288 with 1 Axes>"
            ]
          },
          "metadata": {
            "needs_background": "light"
          }
        }
      ]
    },
    {
      "cell_type": "markdown",
      "metadata": {
        "id": "x1mfSRt2xyHv"
      },
      "source": [
        "# ReLU activation function\n",
        "\n",
        "## $f{(x)=\\text{max}{(0,x)}}$"
      ]
    },
    {
      "cell_type": "code",
      "metadata": {
        "colab": {
          "base_uri": "https://localhost:8080/",
          "height": 265
        },
        "id": "0RPiSTI4ybQO",
        "outputId": "d162f45d-5952-4cce-fb8f-964e7e8f0f77"
      },
      "source": [
        "import torch\n",
        "import matplotlib.pyplot as plt\n",
        "\n",
        "relu = torch.nn.ReLU()\n",
        "x = torch.arange(-5.0, 5.0, 0.1)\n",
        "y = relu(x)\n",
        "\n",
        "plt.plot(x.numpy(), y.numpy())\n",
        "plt.show()"
      ],
      "execution_count": null,
      "outputs": [
        {
          "output_type": "display_data",
          "data": {
            "image/png": "[encoded data removed]",
            "text/plain": [
              "<Figure size 432x288 with 1 Axes>"
            ]
          },
          "metadata": {
            "needs_background": "light"
          }
        }
      ]
    },
    {
      "cell_type": "markdown",
      "metadata": {
        "id": "Zyy_yB7rzytX"
      },
      "source": [
        "# PReLU activation function\n",
        "\n",
        "## $f{(x)=\\text{max}{(x,ax)}}$"
      ]
    },
    {
      "cell_type": "code",
      "metadata": {
        "colab": {
          "base_uri": "https://localhost:8080/",
          "height": 265
        },
        "id": "agEJu2Bnz5KQ",
        "outputId": "23e40027-8d23-41e8-93b4-97c7cddeb433"
      },
      "source": [
        "import torch\n",
        "import matplotlib.pyplot as plt\n",
        "\n",
        "prelu = torch.nn.PReLU(num_parameters=1)\n",
        "x = torch.arange(-5.0, 5.0, 0.1)\n",
        "y = prelu(x)\n",
        "\n",
        "plt.plot(x.detach().numpy(), y.detach().numpy())\n",
        "plt.show()"
      ],
      "execution_count": null,
      "outputs": [
        {
          "output_type": "display_data",
          "data": {
            "image/png": "[encoded data removed]",
            "text/plain": [
              "<Figure size 432x288 with 1 Axes>"
            ]
          },
          "metadata": {
            "needs_background": "light"
          }
        }
      ]
    },
    {
      "cell_type": "markdown",
      "metadata": {
        "id": "2NDsvOBc1hgl"
      },
      "source": [
        "# Softmax activation function\n",
        "\n",
        "## $\\textit{softmax}{(x_i)}=\\frac{e^{x_i}}{\\overset k{\\underset{j=1}{\\mathrm\\Sigma}}e^{x_{\\hspace{-0.166667em}j}}}$"
      ]
    },
    {
      "cell_type": "code",
      "metadata": {
        "colab": {
          "base_uri": "https://localhost:8080/"
        },
        "id": "MiyPLYtV1rEH",
        "outputId": "fb46792d-84c3-4e7d-e549-6cd1dbca91c1"
      },
      "source": [
        "import torch.nn as nn\n",
        "import torch\n",
        "\n",
        "softmax = nn.Softmax(dim=1)\n",
        "x_input = torch.randn(1, 3)\n",
        "y_input = softmax(x_input)\n",
        "\n",
        "print(x_input)\n",
        "print(y_input)\n",
        "print(torch.sum(y_input, dim=1))"
      ],
      "execution_count": null,
      "outputs": [
        {
          "output_type": "stream",
          "name": "stdout",
          "text": [
            "tensor([[-2.2136, -0.6236,  0.7784]])\n",
            "tensor([[0.0387, 0.1899, 0.7714]])\n",
            "tensor([1.])\n"
          ]
        }
      ]
    }
  ]
}