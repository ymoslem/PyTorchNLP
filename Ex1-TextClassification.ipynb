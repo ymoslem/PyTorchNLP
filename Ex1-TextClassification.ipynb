{
  "nbformat": 4,
  "nbformat_minor": 0,
  "metadata": {
    "colab": {
      "name": "Pytorch-TextClassification.ipynb",
      "provenance": [],
      "machine_shape": "hm",
      "background_execution": "on",
      "collapsed_sections": [],
      "authorship_tag": "ABX9TyNGgYKDCJD733q15Q5o3TOK",
      "include_colab_link": true
    },
    "kernelspec": {
      "name": "python3",
      "display_name": "Python 3"
    },
    "language_info": {
      "name": "python"
    },
    "accelerator": "GPU"
  },
  "cells": [
    {
      "cell_type": "markdown",
      "metadata": {
        "id": "view-in-github",
        "colab_type": "text"
      },
      "source": [
        "<a href=\"https://colab.research.google.com/github/ymoslem/PyTorchNLP/blob/main/Ex1-TextClassification.ipynb\" target=\"_parent\"><img src=\"https://colab.research.google.com/assets/colab-badge.svg\" alt=\"Open In Colab\"/></a>"
      ]
    },
    {
      "cell_type": "markdown",
      "source": [
        "# Text Classification with PyTorch\n",
        "Source: https://pytorch.org/tutorials/beginner/text_sentiment_ngrams_tutorial.html"
      ],
      "metadata": {
        "id": "66z6N8BNa2WQ"
      }
    },
    {
      "cell_type": "markdown",
      "source": [
        "# Load the dataset"
      ],
      "metadata": {
        "id": "r2Uso0PUjf9J"
      }
    },
    {
      "cell_type": "code",
      "execution_count": 130,
      "metadata": {
        "id": "2PSQR-fyiqxM"
      },
      "outputs": [],
      "source": [
        "import torch\n",
        "from torchtext.datasets import AG_NEWS\n",
        "train_iter = AG_NEWS(split=\"train\")"
      ]
    },
    {
      "cell_type": "code",
      "source": [
        "type(train_iter)"
      ],
      "metadata": {
        "colab": {
          "base_uri": "https://localhost:8080/"
        },
        "id": "v0MXF_iKjQz_",
        "outputId": "be379d29-46f7-4a65-c4ad-8020aeaa993f"
      },
      "execution_count": 131,
      "outputs": [
        {
          "output_type": "execute_result",
          "data": {
            "text/plain": [
              "torchtext.data.datasets_utils._RawTextIterableDataset"
            ]
          },
          "metadata": {},
          "execution_count": 131
        }
      ]
    },
    {
      "cell_type": "code",
      "source": [
        "next(train_iter)"
      ],
      "metadata": {
        "colab": {
          "base_uri": "https://localhost:8080/"
        },
        "id": "AEZ3ahbPxtIF",
        "outputId": "5f221d15-4895-4458-f5b2-4eefb0d92796"
      },
      "execution_count": 132,
      "outputs": [
        {
          "output_type": "execute_result",
          "data": {
            "text/plain": [
              "(3,\n",
              " \"Wall St. Bears Claw Back Into the Black (Reuters) Reuters - Short-sellers, Wall Street's dwindling\\\\band of ultra-cynics, are seeing green again.\")"
            ]
          },
          "metadata": {},
          "execution_count": 132
        }
      ]
    },
    {
      "cell_type": "code",
      "source": [
        "len(train_iter)"
      ],
      "metadata": {
        "colab": {
          "base_uri": "https://localhost:8080/"
        },
        "id": "6WEq7ohkjddX",
        "outputId": "d5011781-2c39-40f3-b8cd-191dd0c65e52"
      },
      "execution_count": 133,
      "outputs": [
        {
          "output_type": "execute_result",
          "data": {
            "text/plain": [
              "120000"
            ]
          },
          "metadata": {},
          "execution_count": 133
        }
      ]
    },
    {
      "cell_type": "markdown",
      "source": [
        "# Preprocessing data and building vocabulary"
      ],
      "metadata": {
        "id": "ZndcTKFRogcx"
      }
    },
    {
      "cell_type": "code",
      "source": [
        "from torchtext.data.utils import get_tokenizer\n",
        "from torchtext.vocab import build_vocab_from_iterator\n",
        "\n",
        "# Create a tokenizer object\n",
        "tokenizer = get_tokenizer(\"basic_english\")\n",
        "# Get the training split from AG_NEWS dataset\n",
        "train_iter = AG_NEWS(split=\"train\")\n",
        "\n",
        "# Yield an iterator of tokenized text lines\n",
        "def yield_tokens(data_iter):\n",
        "  for class_id, text_line in data_iter:\n",
        "    yield tokenizer(text_line)\n",
        "\n",
        "# Build Vocabulary\n",
        "vocab = build_vocab_from_iterator(yield_tokens(train_iter), specials=[\"<unk>\"])\n",
        "# Value of default index. This index will be returned when OOV token is queried.\n",
        "vocab.set_default_index(vocab[\"<unk>\"])"
      ],
      "metadata": {
        "id": "lJut2FDrofmm"
      },
      "execution_count": 134,
      "outputs": []
    },
    {
      "cell_type": "code",
      "source": [
        "# Test vocab example\n",
        "print(vocab(['here', 'is', 'an', 'example']))  # get IDs for a list of tokens\n",
        "print(vocab[\"test\"])  # a word in vocab\n",
        "print(vocab[\"<unk>\"]) # <unk> special token\n",
        "print(vocab[\"adf4\"])  # any oov token"
      ],
      "metadata": {
        "colab": {
          "base_uri": "https://localhost:8080/"
        },
        "id": "RgovuAbIyM1J",
        "outputId": "32fa3408-1f54-451b-e9dc-40b68954caaf"
      },
      "execution_count": 135,
      "outputs": [
        {
          "output_type": "stream",
          "name": "stdout",
          "text": [
            "[475, 21, 30, 5297]\n",
            "289\n",
            "0\n",
            "0\n"
          ]
        }
      ]
    },
    {
      "cell_type": "markdown",
      "source": [
        "# Generate Data Batches"
      ],
      "metadata": {
        "id": "RAPYXMz9TkLt"
      }
    },
    {
      "cell_type": "code",
      "source": [
        "import torch\n",
        "from torch.utils.data import DataLoader\n",
        "\n",
        "device = torch.device(\"cuda\" if torch.cuda.is_available() else \"cpu\")\n",
        "\n",
        "def collate_batch(batch):\n",
        "  label_list, text_list, offsets = [], [], [0]\n",
        "  for (class_id, text_line) in batch:\n",
        "    class_id = int(class_id) - 1\n",
        "    label_list.append(class_id)\n",
        "    # Tokenize the text line\n",
        "    text_line_tokens = tokenizer(text_line)\n",
        "    # Convert tokens to ID based on vocab \n",
        "    text_line_ids = vocab(text_line_tokens)\n",
        "    # Convert text_line_ids to a PyTorch tensor\n",
        "    text_line_tensor = torch.tensor(text_line_ids, dtype=torch.int64)\n",
        "    # Add to text_list\n",
        "    text_list.append(text_line_tensor)\n",
        "    # Offsets\n",
        "    offsets.append(text_line_tensor.size(0))\n",
        "  \n",
        "  # Convert label_list to a PyTorch tensor\n",
        "  label_list = torch.tensor(label_list, dtype=torch.int64)\n",
        "  # Create offsets. An offset is a tensor of delimiters to represent the beginning index of the individual sequence in the text tensor.\n",
        "  offsets = torch.tensor(offsets[:-1]).cumsum(dim=0)\n",
        "  # Concatenate the given sequence of seq tensors in the given dimension\n",
        "  text_list = torch.cat(text_list)\n",
        "\n",
        "  return label_list.to(device), text_list.to(device), offsets.to(device)\n",
        "\n",
        "\n",
        "# Create a dataset iterator\n",
        "train_iter = AG_NEWS(split=\"train\")\n",
        "# Create a DataLoader object\n",
        "dataloader = DataLoader(train_iter, batch_size=8, shuffle=False, collate_fn=collate_batch)"
      ],
      "metadata": {
        "id": "6NpoNlF6Th0x"
      },
      "execution_count": 136,
      "outputs": []
    },
    {
      "cell_type": "markdown",
      "source": [
        "# Define the model"
      ],
      "metadata": {
        "id": "dMXEmhTuJQHj"
      }
    },
    {
      "cell_type": "code",
      "source": [
        "from torch import nn\n",
        "\n",
        "class TextClassificationModel(nn.Module):\n",
        "  def __init__(self, vocab_size, embed_dim, num_class):\n",
        "    super(TextClassificationModel, self).__init__()\n",
        "    # nn.EmbeddingBag module requires no padding here since the text lengths are saved in offsets\n",
        "    self.embedding = nn.EmbeddingBag(vocab_size, embed_dim, sparse=True)\n",
        "    self.fc = nn.Linear(embed_dim, num_class)\n",
        "    self.init_weights()\n",
        "\n",
        "  def init_weights(self):\n",
        "    initrange = 0.5\n",
        "    self.embedding.weight.data.uniform_(-initrange, initrange)\n",
        "    self.fc.weight.data.uniform_(-initrange, initrange)\n",
        "    self.fc.bias.data.zero_()\n",
        "\n",
        "  def forward(self, text, offsets):\n",
        "    embedded = self.embedding(text, offsets)\n",
        "    return self.fc(embedded)"
      ],
      "metadata": {
        "id": "4T_rqx5f7ysk"
      },
      "execution_count": 137,
      "outputs": []
    },
    {
      "cell_type": "code",
      "source": [
        "train_iter = AG_NEWS(split=\"train\")\n",
        "num_class = len(set([line[0] for line in train_iter]))\n",
        "vocab_size = len(vocab)\n",
        "embed_dim = 64\n",
        "model = TextClassificationModel(vocab_size, embed_dim, num_class).to(device)\n",
        "\n",
        "print(\"Number of classes:\", num_class)\n",
        "print(\"Vocab size:\", vocab_size)"
      ],
      "metadata": {
        "colab": {
          "base_uri": "https://localhost:8080/"
        },
        "id": "ZIS5uL5IIKLs",
        "outputId": "35501300-9068-4d42-b89e-152fb01ded1b"
      },
      "execution_count": 138,
      "outputs": [
        {
          "output_type": "stream",
          "name": "stdout",
          "text": [
            "Number of classes: 4\n",
            "Vocab size: 95811\n"
          ]
        }
      ]
    },
    {
      "cell_type": "code",
      "source": [
        "from torch.utils.data.dataset import random_split\n",
        "from torchtext.data.functional import to_map_style_dataset\n",
        "\n",
        "epochs = 10\n",
        "lr = 5\n",
        "batch_size = 64\n",
        "\n",
        "criterion = torch.nn.CrossEntropyLoss()\n",
        "optimizer = torch.optim.SGD(model.parameters(), lr=lr)\n",
        "scheduler = torch.optim.lr_scheduler.StepLR(optimizer=optimizer, step_size=1.0, gamma=0.1)\n",
        "total_acc = None\n",
        "train_iter, test_iter = AG_NEWS()\n",
        "# Convert iterable-style dataset to map-style dataset\n",
        "main_dataset = to_map_style_dataset(train_iter)\n",
        "test_dataset = to_map_style_dataset(test_iter)\n",
        "num_train = int(len(main_dataset) * 0.95)\n",
        "num_valid = len(main_dataset) - num_train\n",
        "train_dataset, valid_dataset = random_split(main_dataset, [num_train, num_valid])\n",
        "\n",
        "train_dataloader = DataLoader(train_dataset, batch_size=batch_size, shuffle=True, collate_fn=collate_batch)\n",
        "valid_dataloader = DataLoader(valid_dataset, batch_size=batch_size, shuffle=True, collate_fn=collate_batch)\n",
        "test_dataloader = DataLoader(test_dataset, batch_size=batch_size, shuffle=True, collate_fn=collate_batch)"
      ],
      "metadata": {
        "id": "o5M2Hg2rm5fD"
      },
      "execution_count": 139,
      "outputs": []
    },
    {
      "cell_type": "code",
      "source": [
        "train_dataset[0]"
      ],
      "metadata": {
        "colab": {
          "base_uri": "https://localhost:8080/"
        },
        "id": "ldbdi4R2L268",
        "outputId": "9ba9a96b-b1b7-430d-8d2e-de694e6f90bc"
      },
      "execution_count": 140,
      "outputs": [
        {
          "output_type": "execute_result",
          "data": {
            "text/plain": [
              "(3,\n",
              " 'Kidde rejects United Technologies bid United Technologies made a 1.35 billion pound bid for Kidde, but the fire-fighting equipment maker has rejected the offer, saying it undervalues the company.')"
            ]
          },
          "metadata": {},
          "execution_count": 140
        }
      ]
    },
    {
      "cell_type": "markdown",
      "source": [
        "# Create the training and evaluation functions"
      ],
      "metadata": {
        "id": "7Ch1JpZXere2"
      }
    },
    {
      "cell_type": "code",
      "source": [
        "import time\n",
        "\n",
        "def train(dataloader):\n",
        "  model.train()\n",
        "  total_acc, total_count = 0, 0\n",
        "  log_interval = 500\n",
        "  start_time = time.time()\n",
        "\n",
        "  for idx, (label, text, offsets) in enumerate(dataloader):\n",
        "    optimizer.zero_grad()\n",
        "    predicted_label = model(text, offsets)\n",
        "    loss = criterion(predicted_label, label)\n",
        "    loss.backward()\n",
        "    torch.nn.utils.clip_grad_norm_(model.parameters(), max_norm=0.1)\n",
        "    optimizer.step()\n",
        "    total_acc += (predicted_label.argmax(1) == label).sum().item()\n",
        "    total_count += label.size(0)\n",
        "    if idx % log_interval == 0 and idx > 0:\n",
        "      elapsed = time.time() - start_time\n",
        "      print('| epoch {:3d} | {:5d}/{:5d} batches | accuracy {:8.3f}'.format(epoch, idx, len(dataloader), total_acc/total_count))\n",
        "      total_acc, total_count = 0, 0\n",
        "      start_time = time.time()\n",
        "\n",
        "def evaluate(dataloader):\n",
        "  model.eval()\n",
        "  total_acc, total_count = 0, 0\n",
        "\n",
        "  with torch.no_grad():\n",
        "    for idx, (label, text, offsets) in enumerate(dataloader):\n",
        "      predicted_label = model(text, offsets)\n",
        "      loss = criterion(predicted_label, label)\n",
        "      total_acc += (predicted_label.argmax(1) == label).sum().item()\n",
        "      total_count += label.size(0)\n",
        "    return total_acc/total_count "
      ],
      "metadata": {
        "id": "hNEPIWi9Y3Vg"
      },
      "execution_count": 141,
      "outputs": []
    },
    {
      "cell_type": "markdown",
      "source": [
        "# Run the training loop"
      ],
      "metadata": {
        "id": "qH68mFiZe17D"
      }
    },
    {
      "cell_type": "code",
      "source": [
        "# Training loop\n",
        "for epoch in range(1, epochs+1):\n",
        "  epoch_start_time = time.time()\n",
        "  train(train_dataloader)\n",
        "  acc_val = evaluate(valid_dataloader)\n",
        "  if total_acc is not None and total_acc > acc_val:\n",
        "    scheduler.step()\n",
        "  else:\n",
        "    total_acc = acc_val\n",
        "  print(\"-\" * 59)\n",
        "  print('| end of epoch {:3d} | time: {:5.2f}s | valid accuracy {:8.3f} '.format(epoch, time.time() - epoch_start_time, acc_val))\n",
        "  print('-' * 59)\n"
      ],
      "metadata": {
        "colab": {
          "base_uri": "https://localhost:8080/"
        },
        "id": "clOloqzvLzux",
        "outputId": "8929aea0-f787-496e-af5e-835d7cd94dfb"
      },
      "execution_count": 142,
      "outputs": [
        {
          "output_type": "stream",
          "name": "stdout",
          "text": [
            "| epoch   1 |   500/ 1782 batches | accuracy    0.680\n",
            "| epoch   1 |  1000/ 1782 batches | accuracy    0.855\n",
            "| epoch   1 |  1500/ 1782 batches | accuracy    0.875\n",
            "-----------------------------------------------------------\n",
            "| end of epoch   1 | time:  6.90s | valid accuracy    0.884 \n",
            "-----------------------------------------------------------\n",
            "| epoch   2 |   500/ 1782 batches | accuracy    0.894\n",
            "| epoch   2 |  1000/ 1782 batches | accuracy    0.900\n",
            "| epoch   2 |  1500/ 1782 batches | accuracy    0.903\n",
            "-----------------------------------------------------------\n",
            "| end of epoch   2 | time:  6.90s | valid accuracy    0.901 \n",
            "-----------------------------------------------------------\n",
            "| epoch   3 |   500/ 1782 batches | accuracy    0.911\n",
            "| epoch   3 |  1000/ 1782 batches | accuracy    0.915\n",
            "| epoch   3 |  1500/ 1782 batches | accuracy    0.914\n",
            "-----------------------------------------------------------\n",
            "| end of epoch   3 | time:  6.86s | valid accuracy    0.894 \n",
            "-----------------------------------------------------------\n",
            "| epoch   4 |   500/ 1782 batches | accuracy    0.928\n",
            "| epoch   4 |  1000/ 1782 batches | accuracy    0.932\n",
            "| epoch   4 |  1500/ 1782 batches | accuracy    0.928\n",
            "-----------------------------------------------------------\n",
            "| end of epoch   4 | time:  7.02s | valid accuracy    0.908 \n",
            "-----------------------------------------------------------\n",
            "| epoch   5 |   500/ 1782 batches | accuracy    0.929\n",
            "| epoch   5 |  1000/ 1782 batches | accuracy    0.932\n",
            "| epoch   5 |  1500/ 1782 batches | accuracy    0.929\n",
            "-----------------------------------------------------------\n",
            "| end of epoch   5 | time:  7.01s | valid accuracy    0.906 \n",
            "-----------------------------------------------------------\n",
            "| epoch   6 |   500/ 1782 batches | accuracy    0.934\n",
            "| epoch   6 |  1000/ 1782 batches | accuracy    0.931\n",
            "| epoch   6 |  1500/ 1782 batches | accuracy    0.932\n",
            "-----------------------------------------------------------\n",
            "| end of epoch   6 | time:  6.84s | valid accuracy    0.906 \n",
            "-----------------------------------------------------------\n",
            "| epoch   7 |   500/ 1782 batches | accuracy    0.933\n",
            "| epoch   7 |  1000/ 1782 batches | accuracy    0.933\n",
            "| epoch   7 |  1500/ 1782 batches | accuracy    0.933\n",
            "-----------------------------------------------------------\n",
            "| end of epoch   7 | time:  6.86s | valid accuracy    0.907 \n",
            "-----------------------------------------------------------\n",
            "| epoch   8 |   500/ 1782 batches | accuracy    0.935\n",
            "| epoch   8 |  1000/ 1782 batches | accuracy    0.932\n",
            "| epoch   8 |  1500/ 1782 batches | accuracy    0.932\n",
            "-----------------------------------------------------------\n",
            "| end of epoch   8 | time:  6.87s | valid accuracy    0.907 \n",
            "-----------------------------------------------------------\n",
            "| epoch   9 |   500/ 1782 batches | accuracy    0.934\n",
            "| epoch   9 |  1000/ 1782 batches | accuracy    0.934\n",
            "| epoch   9 |  1500/ 1782 batches | accuracy    0.931\n",
            "-----------------------------------------------------------\n",
            "| end of epoch   9 | time:  6.92s | valid accuracy    0.907 \n",
            "-----------------------------------------------------------\n",
            "| epoch  10 |   500/ 1782 batches | accuracy    0.934\n",
            "| epoch  10 |  1000/ 1782 batches | accuracy    0.933\n",
            "| epoch  10 |  1500/ 1782 batches | accuracy    0.931\n",
            "-----------------------------------------------------------\n",
            "| end of epoch  10 | time:  6.94s | valid accuracy    0.907 \n",
            "-----------------------------------------------------------\n"
          ]
        }
      ]
    },
    {
      "cell_type": "markdown",
      "source": [
        "# Evaluate the model on the test dataset"
      ],
      "metadata": {
        "id": "0Q4_rcVGhJxB"
      }
    },
    {
      "cell_type": "code",
      "source": [
        "print('Checking the results of test dataset.')\n",
        "acc_test = evaluate(test_dataloader)\n",
        "print('test accuracy {:8.3f}'.format(acc_test))"
      ],
      "metadata": {
        "colab": {
          "base_uri": "https://localhost:8080/"
        },
        "id": "L4RKB26qhL3R",
        "outputId": "53edc39a-ce26-4fea-f2d3-22600ad1d7dc"
      },
      "execution_count": 144,
      "outputs": [
        {
          "output_type": "stream",
          "name": "stdout",
          "text": [
            "Checking the results of test dataset.\n",
            "test accuracy    0.906\n"
          ]
        }
      ]
    },
    {
      "cell_type": "markdown",
      "source": [
        "# Evaluate the model on out-of-domain data"
      ],
      "metadata": {
        "id": "vES9HlGhhZqw"
      }
    },
    {
      "cell_type": "code",
      "source": [
        "ag_news_label = {\n",
        "    1: \"World\",\n",
        "    2: \"Sports\",\n",
        "    3: \"Business\",\n",
        "    4: \"Sci/Tec\"\n",
        "}\n",
        "\n",
        "def predict(text):\n",
        "  with torch.no_grad():\n",
        "    # Tokenize the text\n",
        "    text_tokens = tokenizer(text)\n",
        "    # Convert tokens to ID based on vocab \n",
        "    text_ids = vocab(text_tokens)\n",
        "    # Convert text_ids to a PyTorch tensor\n",
        "    text = torch.tensor(text_ids, dtype=torch.int64)\n",
        "    output = model(text, torch.tensor([0]))\n",
        "    return output.argmax(1).item() + 1\n",
        "\n",
        "text = \"MEMPHIS, Tenn. – Four days ago, Jon Rahm was \\\n",
        "    enduring the season’s worst weather conditions on Sunday at The \\\n",
        "    Open on his way to a closing 75 at Royal Portrush, which \\\n",
        "    considering the wind and the rain was a respectable showing. \\\n",
        "    Thursday’s first round at the WGC-FedEx St. Jude Invitational \\\n",
        "    was another story. With temperatures in the mid-80s and hardly any \\\n",
        "    wind, the Spaniard was 13 strokes better in a flawless round. \\\n",
        "    Thanks to his best putting performance on the PGA Tour, Rahm \\\n",
        "    finished with an 8-under 62 for a three-stroke lead, which \\\n",
        "    was even more impressive considering he’d never played the \\\n",
        "    front nine at TPC Southwind.\"\n",
        "\n",
        "model = model.to(\"cpu\")\n",
        "prediction = predict(text)\n",
        "print(\"This is a %s news\" %ag_news_label[prediction])\n"
      ],
      "metadata": {
        "colab": {
          "base_uri": "https://localhost:8080/"
        },
        "id": "bZJCwxYThZGH",
        "outputId": "cc942c5e-181c-43e6-a62c-161a1a6315a6"
      },
      "execution_count": 154,
      "outputs": [
        {
          "output_type": "stream",
          "name": "stdout",
          "text": [
            "This is a Sports news\n"
          ]
        }
      ]
    }
  ]
}