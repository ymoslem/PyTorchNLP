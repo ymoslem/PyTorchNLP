{
  "nbformat": 4,
  "nbformat_minor": 0,
  "metadata": {
    "colab": {
      "name": "3-loss-functions.ipynb",
      "provenance": [],
      "collapsed_sections": [],
      "authorship_tag": "ABX9TyMlyahL8We5FA8T7512mjpe",
      "include_colab_link": true
    },
    "kernelspec": {
      "name": "python3",
      "display_name": "Python 3"
    },
    "language_info": {
      "name": "python"
    }
  },
  "cells": [
    {
      "cell_type": "markdown",
      "metadata": {
        "id": "view-in-github",
        "colab_type": "text"
      },
      "source": [
        "<a href=\"https://colab.research.google.com/github/ymoslem/PyTorchNLP/blob/main/3-loss-functions.ipynb\" target=\"_parent\"><img src=\"https://colab.research.google.com/assets/colab-badge.svg\" alt=\"Open In Colab\"/></a>"
      ]
    },
    {
      "cell_type": "markdown",
      "metadata": {
        "id": "u4UMFjeIGOhy"
      },
      "source": [
        "## MSE Loss Function\n",
        "\n",
        "$L_\\textit{MSE}\\left(y,ŷ\\right)=\\frac1n\\sum_{i=1}^n\\left(y-ŷ\\right)^2$"
      ]
    },
    {
      "cell_type": "code",
      "metadata": {
        "id": "bg4xh98S_WLN",
        "colab": {
          "base_uri": "https://localhost:8080/"
        },
        "outputId": "6b87e1fb-528d-401e-d03e-f885ea1da491"
      },
      "source": [
        "import torch\n",
        "import torch.nn as nn\n",
        "\n",
        "mse_loss = nn.MSELoss()\n",
        "outputs = torch.randn(3, 5, requires_grad=True)\n",
        "targets = torch.randn(3, 5)\n",
        "loss = mse_loss(outputs, targets)\n",
        "print(loss)"
      ],
      "execution_count": null,
      "outputs": [
        {
          "output_type": "stream",
          "name": "stdout",
          "text": [
            "tensor(1.8296, grad_fn=<MseLossBackward>)\n"
          ]
        }
      ]
    },
    {
      "cell_type": "markdown",
      "metadata": {
        "id": "ciPZYuirQxkW"
      },
      "source": [
        "## Categorical Cross-Entropy Loss Function\n",
        "$L_{\\textit{cross_entropy}(y,ŷ)=–\\sum_iy_i\\log\\left(ŷ_i\\right)}$"
      ]
    },
    {
      "cell_type": "code",
      "metadata": {
        "colab": {
          "base_uri": "https://localhost:8080/"
        },
        "id": "GrM2-0_SQx3o",
        "outputId": "403ea722-cc1d-4394-ce33-bf0b512a578d"
      },
      "source": [
        "import torch\n",
        "import torch.nn as nn\n",
        "\n",
        "ce_loss = nn.CrossEntropyLoss()\n",
        "outputs = torch.randn(3, 5, requires_grad=True)\n",
        "targets = torch.tensor([1, 0, 3], dtype=torch.int64)\n",
        "loss = ce_loss(outputs, targets)\n",
        "print(loss)"
      ],
      "execution_count": null,
      "outputs": [
        {
          "output_type": "stream",
          "name": "stdout",
          "text": [
            "tensor(2.5132, grad_fn=<NllLossBackward>)\n"
          ]
        }
      ]
    },
    {
      "cell_type": "markdown",
      "metadata": {
        "id": "DR-rBH9Ec7lc"
      },
      "source": [
        "## Binary Cross-Entropy Loss Function"
      ]
    },
    {
      "cell_type": "code",
      "metadata": {
        "colab": {
          "base_uri": "https://localhost:8080/"
        },
        "id": "Yp_DUxAqc77-",
        "outputId": "cbd5a41e-3af7-45c2-87d8-d547b3ccee9b"
      },
      "source": [
        "import torch\n",
        "import torch.nn as nn\n",
        "\n",
        "bce_loss = nn.BCELoss()\n",
        "sigmoid = nn.Sigmoid()\n",
        "outputs = torch.randn(4, 1, requires_grad=True)\n",
        "probabilities = sigmoid(outputs)\n",
        "targets = torch.tensor([1, 0, 1, 0], dtype=torch.float32).view(4, 1)\n",
        "loss = bce_loss (probabilities, targets)\n",
        "print(probabilities)\n",
        "print(loss)"
      ],
      "execution_count": null,
      "outputs": [
        {
          "output_type": "stream",
          "name": "stdout",
          "text": [
            "tensor([[0.6920],\n",
            "        [0.3228],\n",
            "        [0.7861],\n",
            "        [0.5965]], grad_fn=<SigmoidBackward>)\n",
            "tensor(0.4766, grad_fn=<BinaryCrossEntropyBackward>)\n"
          ]
        }
      ]
    }
  ]
}