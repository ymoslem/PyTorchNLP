{
  "nbformat": 4,
  "nbformat_minor": 0,
  "metadata": {
    "colab": {
      "name": "4-optimizers.ipynb",
      "provenance": [],
      "collapsed_sections": [],
      "authorship_tag": "ABX9TyO39MyQwPBHiKZ5dT8gFleu",
      "include_colab_link": true
    },
    "kernelspec": {
      "name": "python3",
      "display_name": "Python 3"
    },
    "language_info": {
      "name": "python"
    }
  },
  "cells": [
    {
      "cell_type": "markdown",
      "metadata": {
        "id": "view-in-github",
        "colab_type": "text"
      },
      "source": [
        "<a href=\"https://colab.research.google.com/github/ymoslem/PyTorchNLP/blob/main/4-optimizers.ipynb\" target=\"_parent\"><img src=\"https://colab.research.google.com/assets/colab-badge.svg\" alt=\"Open In Colab\"/></a>"
      ]
    },
    {
      "cell_type": "code",
      "metadata": {
        "id": "RwO6lQgR4vBl"
      },
      "source": [
        "import torch\n",
        "import torch.nn as nn\n",
        "\n",
        "class Perceptron(nn.Module):\n",
        "  \"\"\" A perceptron is one linear layer \"\"\"\n",
        "  def __init__(self, input_dim):\n",
        "    \"\"\"\n",
        "    Args:\n",
        "        input_dim (int): size of the input features\n",
        "    \"\"\"\n",
        "    super(Perceptron, self).__init__()\n",
        "    self.fcl = nn.Linear(input_dim, 1)\n",
        "\n",
        "  def forward(self, x_in):\n",
        "    \"\"\"The forward pass of the perceptron\n",
        "    \n",
        "    Args:\n",
        "        x_in (torch.Tensor): an input data tensor \n",
        "            x_in.shape should be (batch, num_features)\n",
        "    Returns:\n",
        "        the resulting tensor. tensor.shape should be (batch,).\n",
        "    \"\"\"\n",
        "    return torch.sigmoid(self.fcl(x_in)).squeeze()\n"
      ],
      "execution_count": 4,
      "outputs": []
    },
    {
      "cell_type": "code",
      "metadata": {
        "id": "nd8Xw5K3VlVn"
      },
      "source": [
        "# Adam optimizer\n",
        "import torch.nn as nn\n",
        "import torch.optim as optim\n",
        "\n",
        "input_dim = 2\n",
        "lr = 0.001\n",
        "\n",
        "perceptron = Perceptron(input_dim=input_dim)\n",
        "bce_loss = nn.BCELoss()\n",
        "optimizer = optim.Adam(params=perceptron.parameters(), lr=lr)"
      ],
      "execution_count": null,
      "outputs": []
    },
    {
      "cell_type": "code",
      "metadata": {
        "id": "83UaAKhho1xf"
      },
      "source": [
        "# SGD optimizer\n",
        "import torch.nn as nn\n",
        "import torch.optim as optim\n",
        "\n",
        "input_dim = 2\n",
        "lr = 0.1\n",
        "momentum = 0.9\n",
        "\n",
        "perceptron = Perceptron(input_dim=input_dim)\n",
        "bce_loss = nn.BCELoss()\n",
        "optimizer = optim.SGD(params=perceptron.parameters(), lr=lr, momentum=momentum)"
      ],
      "execution_count": 5,
      "outputs": []
    }
  ]
}