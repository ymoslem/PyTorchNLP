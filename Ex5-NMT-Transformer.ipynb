{
  "cells": [
    {
      "cell_type": "markdown",
      "metadata": {
        "id": "view-in-github",
        "colab_type": "text"
      },
      "source": [
        "<a href=\"https://colab.research.google.com/github/ymoslem/PyTorchNLP/blob/main/Ex5-NMT-Transformer.ipynb\" target=\"_parent\"><img src=\"https://colab.research.google.com/assets/colab-badge.svg\" alt=\"Open In Colab\"/></a>"
      ]
    },
    {
      "cell_type": "markdown",
      "id": "d67aded7",
      "metadata": {
        "id": "d67aded7"
      },
      "source": [
        "# NMT with PyTorch nn.Transformer\n",
        "\n",
        "* **Paper:** <a href=\"https://arxiv.org/abs/1706.03762\">Attention is all you need</a>\n",
        "\n",
        "* **PyTorch Transformer Classs:** https://pytorch.org/docs/stable/generated/torch.nn.Transformer.html"
      ]
    },
    {
      "cell_type": "code",
      "execution_count": null,
      "id": "a47be0f4",
      "metadata": {
        "id": "a47be0f4"
      },
      "outputs": [],
      "source": [
        "import torch\n",
        "import torch.nn as nn\n",
        "import torch.optim as optim\n",
        "\n",
        "from torch.utils.tensorboard import SummaryWriter\n",
        "from torch.utils.data import DataLoader\n",
        "from torchtext.vocab import build_vocab_from_iterator\n",
        "from torch.nn.utils.rnn import pad_sequence\n",
        "import spacy\n",
        "\n",
        "print(torch.__version__)  # 1.11.0+cu113"
      ]
    },
    {
      "cell_type": "code",
      "execution_count": null,
      "id": "7833c731",
      "metadata": {
        "id": "7833c731"
      },
      "outputs": [],
      "source": [
        "# Load the Multi30k German-to-English dataset\n",
        "# Info: https://pytorch.org/text/stable/datasets.html#multi30k\n",
        "\n",
        "from torchtext.datasets import Multi30k\n",
        "train_iter, valid_iter, test_iter = Multi30k()"
      ]
    },
    {
      "cell_type": "code",
      "execution_count": null,
      "id": "35421977",
      "metadata": {
        "id": "35421977"
      },
      "outputs": [],
      "source": [
        "# Read the first sentence\n",
        "src_sentence, tgt_sentence = next(iter(train_iter))\n",
        "print(src_sentence, tgt_sentence, sep=\"\\n\")"
      ]
    },
    {
      "cell_type": "code",
      "execution_count": null,
      "id": "7051a309",
      "metadata": {
        "id": "7051a309"
      },
      "outputs": [],
      "source": [
        "# Number of segments\n",
        "count = 0\n",
        "for item in train_iter:\n",
        "    count +=1\n",
        "print(count)"
      ]
    },
    {
      "cell_type": "code",
      "execution_count": null,
      "id": "f4a5abb3",
      "metadata": {
        "id": "f4a5abb3"
      },
      "outputs": [],
      "source": [
        "#!python3 -m spacy download de_core_news_sm\n",
        "#!python3 -m spacy download en_core_web_sm\n",
        "\n",
        "spacy_de = spacy.load(\"de_core_news_sm\")\n",
        "spacy_en = spacy.load(\"en_core_web_sm\")\n",
        "\n",
        "def tokenizer_de(text):\n",
        "    tokenized_text = [tok.text for tok in spacy_de.tokenizer(text)]\n",
        "    return tokenized_text\n",
        "\n",
        "def tokenizer_en(text):\n",
        "    tokenized_text = [tok.text for tok in spacy_en.tokenizer(text)]\n",
        "    return tokenized_text"
      ]
    },
    {
      "cell_type": "code",
      "execution_count": null,
      "id": "260a396d",
      "metadata": {
        "id": "260a396d"
      },
      "outputs": [],
      "source": [
        "tokenizer_en(\"here is a test\")"
      ]
    },
    {
      "cell_type": "code",
      "execution_count": null,
      "id": "fee01314",
      "metadata": {
        "id": "fee01314"
      },
      "outputs": [],
      "source": [
        "# Build Vocabulary\n",
        "# Info: https://pytorch.org/text/stable/vocab.html?highlight=build%20vocab#torchtext.vocab.build_vocab_from_iterator\n",
        "\n",
        "def yield_tokens(train_iter, direction):\n",
        "    for source, target in train_iter:\n",
        "        if direction == \"source\":\n",
        "            source_tokenized = tokenizer_de(source)\n",
        "            yield source_tokenized\n",
        "        elif direction == \"target\":\n",
        "            target_tokenized = tokenizer_en(target)\n",
        "            yield target_tokenized\n",
        "        else:\n",
        "            raise ValueError(\"direction should 'source' or 'target'\")\n",
        "\n",
        "\n",
        "source_vocab = build_vocab_from_iterator(yield_tokens(train_iter, \"source\"),\n",
        "                                     specials=[\"<unk>\", '<pad>', \"<s>\", \"</s>\"],\n",
        "                                     min_freq=1,\n",
        "                                     max_tokens=50000)\n",
        "source_vocab.set_default_index(source_vocab[\"<unk>\"])\n",
        "\n",
        "target_vocab = build_vocab_from_iterator(yield_tokens(train_iter, \"target\"),\n",
        "                                     specials=[\"<unk>\", '<pad>', \"<s>\", \"</s>\"],\n",
        "                                     min_freq=1,\n",
        "                                     max_tokens=50000)\n",
        "target_vocab.set_default_index(target_vocab[\"<unk>\"])"
      ]
    },
    {
      "cell_type": "code",
      "execution_count": null,
      "id": "5071ffc9",
      "metadata": {
        "id": "5071ffc9"
      },
      "outputs": [],
      "source": [
        "print(len(source_vocab), len(target_vocab))"
      ]
    },
    {
      "cell_type": "code",
      "execution_count": null,
      "id": "bedd684d",
      "metadata": {
        "id": "bedd684d"
      },
      "outputs": [],
      "source": [
        "target_vocab(['<s>', 'here', 'is', 'an', 'example', '</s>'])"
      ]
    },
    {
      "cell_type": "code",
      "execution_count": null,
      "id": "1c7fba55",
      "metadata": {
        "id": "1c7fba55"
      },
      "outputs": [],
      "source": [
        "# Info: https://colab.research.google.com/github/pytorch/text/blob/master/examples/legacy_tutorial/migration_tutorial.ipynb\n",
        "\n",
        "device = torch.device(\"cuda\" if torch.cuda.is_available() else \"cpu\")\n",
        "batch_size = 256  # examples\n",
        "pad_idx = target_vocab[\"<pad>\"]\n",
        "\n",
        "\n",
        "def collate_batch(batch):\n",
        "    sources, targets = [], []\n",
        "    for source, target in batch:\n",
        "        source = [\"<s>\"] + tokenizer_de(source.lower()) + [\"</s>\"]\n",
        "        target = [\"<s>\"] + tokenizer_en(target.lower()) + [\"</s>\"]\n",
        "        \n",
        "        source_idx = source_vocab(source)\n",
        "        target_idx = target_vocab(target)\n",
        "        \n",
        "        source_tensor = torch.tensor(source_idx, dtype=torch.int64)\n",
        "        target_tensor = torch.tensor(target_idx, dtype=torch.int64)\n",
        "        \n",
        "        sources.append(source_tensor)\n",
        "        targets.append(target_tensor)\n",
        "        \n",
        "    sources = pad_sequence(sources, padding_value=pad_idx)\n",
        "    sources = sources.to(device)\n",
        "    \n",
        "    targets = pad_sequence(targets, padding_value=pad_idx)\n",
        "    targets = targets.to(device)\n",
        "    \n",
        "    return sources, targets\n",
        "\n",
        "\n",
        "# [To-Do] Add batch_sampler to act as a bucket iterator\n",
        "\n",
        "train_dataloader = DataLoader(train_iter, batch_size=batch_size, shuffle=True, collate_fn=collate_batch)\n",
        "valid_dataloader = DataLoader(valid_iter, batch_size=batch_size, shuffle=True, collate_fn=collate_batch)\n",
        "test_dataloader = DataLoader(test_iter, batch_size=batch_size, shuffle=True, collate_fn=collate_batch)"
      ]
    },
    {
      "cell_type": "code",
      "execution_count": null,
      "id": "4d549430",
      "metadata": {
        "id": "4d549430"
      },
      "outputs": [],
      "source": [
        "# Check first item in the dataloader\n",
        "# print(*next(iter(train_dataloader)), sep=\"\\n\\t\")"
      ]
    },
    {
      "cell_type": "code",
      "execution_count": null,
      "id": "2e6aa7fe",
      "metadata": {
        "id": "2e6aa7fe"
      },
      "outputs": [],
      "source": [
        "# Example usage\n",
        "# for x_data, y_data in train_dataloader:\n",
        "#    x_data, y_data = x_data.to(device), y_data.to(device)"
      ]
    },
    {
      "cell_type": "markdown",
      "id": "04b3080e",
      "metadata": {
        "id": "04b3080e"
      },
      "source": [
        "# Transformer"
      ]
    },
    {
      "cell_type": "code",
      "execution_count": null,
      "id": "7d4b5537",
      "metadata": {
        "id": "7d4b5537"
      },
      "outputs": [],
      "source": [
        "class Transformer(nn.Module):\n",
        "    def __init__(\n",
        "        self,\n",
        "        embedding_size,\n",
        "        src_vocab_size,\n",
        "        tgt_vocab_size,\n",
        "        src_pad_idx,\n",
        "        num_heads,\n",
        "        num_encoder_layers,\n",
        "        num_decoder_layers,\n",
        "        forward_expantion,\n",
        "        dropout,\n",
        "        max_len,\n",
        "        device\n",
        "    ):\n",
        "        super(Transformer, self).__init__()\n",
        "        \n",
        "        self.src_word_embedding = nn.Embedding(src_vocab_size, embedding_size)\n",
        "        self.src_positional_embedding = nn.Embedding(max_len, embedding_size)\n",
        "        \n",
        "        self.tgt_word_embedding = nn.Embedding(tgt_vocab_size, embedding_size)\n",
        "        self.tgt_positional_embedding = nn.Embedding(max_len, embedding_size)\n",
        "        \n",
        "        self.device = device\n",
        "        self.src_pad_idx = src_pad_idx\n",
        "        self.dropout = nn.Dropout(dropout)\n",
        "        \n",
        "        self.transformer = nn.Transformer(\n",
        "            embedding_size,\n",
        "            num_heads,\n",
        "            num_encoder_layers,\n",
        "            num_decoder_layers,\n",
        "            forward_expantion,\n",
        "            dropout\n",
        "        )\n",
        "        \n",
        "        self.fc_out = nn.Linear(embedding_size, tgt_vocab_size)\n",
        "        \n",
        "    def make_src_mask(self, src):\n",
        "        # src shape: (src_len, N)\n",
        "        # src_mask shape: (N, src_len) \n",
        "        # maching required shape of src_key_padding_mask in nn.Transformer\n",
        "        src_mask = src.transpose(0, 1) == self.src_pad_idx\n",
        "        # src_mask shape: (N, src_len)\n",
        "        \n",
        "        return src_mask.to(self.device)\n",
        "\n",
        "    def forward(self, src, tgt):\n",
        "        src_seq_length, N = src.shape\n",
        "        tgt_seq_length, N = tgt.shape\n",
        "\n",
        "        src_positions = (\n",
        "            torch.arange(0, src_seq_length)\n",
        "            .unsqueeze(1)\n",
        "            .expand(src_seq_length, N)\n",
        "            .to(self.device)\n",
        "        )\n",
        "\n",
        "        tgt_positions = (\n",
        "            torch.arange(0, tgt_seq_length)\n",
        "            .unsqueeze(1)\n",
        "            .expand(tgt_seq_length, N)\n",
        "            .to(self.device)\n",
        "        )\n",
        "\n",
        "        src_embedding = self.dropout(\n",
        "            (self.src_word_embedding(src) + self.src_positional_embedding(src_positions))\n",
        "        )\n",
        "\n",
        "        tgt_embedding = self.dropout(\n",
        "            (self.tgt_word_embedding(tgt) + self.tgt_positional_embedding(tgt_positions))\n",
        "        )\n",
        "\n",
        "        src_padding_mask = self.make_src_mask(src)\n",
        "        tgt_mask = self.transformer.generate_square_subsequent_mask(tgt_seq_length).to(self.device)\n",
        "\n",
        "        out = self.transformer(\n",
        "            src_embedding,\n",
        "            tgt_embedding,\n",
        "            src_key_padding_mask=src_padding_mask,\n",
        "            tgt_mask=tgt_mask\n",
        "        )\n",
        "\n",
        "        out = self.fc_out(out)\n",
        "\n",
        "        return out"
      ]
    },
    {
      "cell_type": "markdown",
      "id": "88676d21",
      "metadata": {
        "id": "88676d21"
      },
      "source": [
        "# Helper Functions"
      ]
    },
    {
      "cell_type": "code",
      "execution_count": null,
      "id": "3eb3f7d0",
      "metadata": {
        "id": "3eb3f7d0"
      },
      "outputs": [],
      "source": [
        "import torch\n",
        "import spacy\n",
        "from torchtext.data.metrics import bleu_score\n",
        "import sys\n",
        "from random import random\n",
        "\n",
        "\n",
        "def translate(text, model, tokenizer, source_vocab, target_vocab, device, max_length=50):\n",
        "    \n",
        "    # Tokenize the text and lower-case it\n",
        "    tokenized_text = tokenizer(text)\n",
        "    tokenized_text = [\"<s>\"] + [token.lower() for token in tokenized_text ] + [\"</s>\"]\n",
        "    # print(tokenized_text)\n",
        "\n",
        "    # Convert text to indices\n",
        "    text_to_indices = source_vocab(tokenized_text)\n",
        "\n",
        "    # Convert to Tensor\n",
        "    sentence_tensor = torch.LongTensor(text_to_indices).unsqueeze(1).to(device)\n",
        "    \n",
        "    model.eval()\n",
        "    \n",
        "    outputs = target_vocab([\"<s>\"])\n",
        "    \n",
        "    for i in range(max_length):\n",
        "        trg_tensor = torch.LongTensor(outputs).unsqueeze(1).to(device)\n",
        "\n",
        "        with torch.no_grad():\n",
        "            output = model(sentence_tensor, trg_tensor)\n",
        "\n",
        "        best_guess = output.argmax(2)[-1, :].item()\n",
        "        outputs.append(best_guess)\n",
        "\n",
        "        if best_guess == target_vocab[\"</s>\"]:\n",
        "            break\n",
        "    \n",
        "    target_vocab_itos = target_vocab.get_itos()\n",
        "    translated_sentence = [target_vocab_itos[idx] for idx in outputs]\n",
        "    # remove start token\n",
        "    translated_sentence = translated_sentence[1:]\n",
        "    translated_sentence = \" \".join(translated_sentence)\n",
        "    \n",
        "    return translated_sentence\n",
        "\n",
        "\n",
        "def bleu(data_iter, model, tokenizer, source_vocab, target_vocab, device):\n",
        "    targets = []\n",
        "    outputs = []\n",
        "\n",
        "    for source, target in data_iter:\n",
        "\n",
        "        prediction = translate(source, model, tokenizer, source_vocab, target_vocab, device)\n",
        "        prediction = prediction[:-1]  # remove the start <s> token\n",
        "\n",
        "        targets.append([target])\n",
        "        outputs.append(prediction)\n",
        "\n",
        "    return bleu_score(outputs, targets)\n",
        "\n",
        "\n",
        "def save_checkpoint(state, filename=\"my_checkpoint.pth.tar\"):\n",
        "    print(\"=> Saving checkpoint\")\n",
        "    torch.save(state, filename)\n",
        "\n",
        "\n",
        "def load_checkpoint(checkpoint, model, optimizer):\n",
        "    print(\"=> Loading checkpoint\")\n",
        "    model.load_state_dict(checkpoint[\"state_dict\"])\n",
        "    optimizer.load_state_dict(checkpoint[\"opt\"])\n",
        "\n",
        "\n",
        "def load_checkpoint_for_inference(model, checkpoint_path):\n",
        "    checkpoint = torch.load(checkpoint_path)\n",
        "    model.load_state_dict(checkpoint[\"state_dict\"])\n",
        "    print(\"Model checkpoint loaded\")"
      ]
    },
    {
      "cell_type": "markdown",
      "id": "45b4e96c",
      "metadata": {
        "id": "45b4e96c"
      },
      "source": [
        "# Training Setup"
      ]
    },
    {
      "cell_type": "code",
      "execution_count": null,
      "id": "67eb05ed",
      "metadata": {
        "id": "67eb05ed"
      },
      "outputs": [],
      "source": [
        "load_model = False\n",
        "save_model = True\n",
        "\n",
        "# Training Hyperparameters\n",
        "num_epochs = 100\n",
        "learning_rate = 3e-4\n",
        "batch_size = 256  # examples - make sure it is the same as in data preperation\n",
        "\n",
        "# Model Hyperparameters\n",
        "device = torch.device(\"cuda\" if torch.cuda.is_available() == True else \"cpu\")\n",
        "src_vocab_size = len(source_vocab)\n",
        "tgt_vocab_size = len(target_vocab)\n",
        "embedding_size = 512\n",
        "num_heads = 8\n",
        "num_encoder_layers = 3  # 6\n",
        "num_decoder_layers = 3  # 6\n",
        "dropout = 0.1\n",
        "max_len = 100\n",
        "forward_expansion = 2048\n",
        "src_pad_idx = source_vocab[\"<pad>\"]\n",
        "\n",
        "\n",
        "# Tensorboard\n",
        "writer = SummaryWriter(f\"runs/loss_plot\")\n",
        "step = 0\n",
        "\n",
        "model = Transformer(\n",
        "    embedding_size,\n",
        "    src_vocab_size,\n",
        "    tgt_vocab_size,\n",
        "    src_pad_idx,\n",
        "    num_heads,\n",
        "    num_encoder_layers,\n",
        "    num_decoder_layers,\n",
        "    forward_expansion,\n",
        "    dropout,\n",
        "    max_len,\n",
        "    device\n",
        ").to(device)\n",
        "\n",
        "optimizer = optim.Adam(model.parameters(), lr=learning_rate)\n",
        "\n",
        "scheduler = torch.optim.lr_scheduler.ReduceLROnPlateau(\n",
        "    optimizer, factor=0.1, patience=10, verbose=True\n",
        ")\n",
        "    \n",
        "\n",
        "tgt_pad_idx = target_vocab[\"<pad>\"]\n",
        "criterion = nn.CrossEntropyLoss(ignore_index=tgt_pad_idx)\n",
        "\n",
        "if load_model:\n",
        "    load_checkpoint(torch.load(\"my_checkpoint.pth.tar\"), model, optimizer)"
      ]
    },
    {
      "cell_type": "markdown",
      "id": "e937c22e",
      "metadata": {
        "id": "e937c22e"
      },
      "source": [
        "# Training Loop"
      ]
    },
    {
      "cell_type": "code",
      "execution_count": null,
      "id": "50a986b5",
      "metadata": {
        "id": "50a986b5"
      },
      "outputs": [],
      "source": [
        "# \"Butter and cheese are made from milk.\"\n",
        "# sentence = \"Butter und Käse werden aus Milch gemacht.\"\n",
        "# \"A horse walks under a bridge next to a boat.\"\n",
        "sentence = \"ein pferd geht unter einer brücke neben einem boot.\"\n",
        "\n",
        "for epoch in range(num_epochs):\n",
        "    print(f\"Epoch [{epoch} / {num_epochs}]\")\n",
        "    \n",
        "    # Save checkpoint\n",
        "    if save_model:\n",
        "        checkpoint = {\"state_dict\":model.state_dict(),\n",
        "                      \"opt\":optimizer.state_dict(),\n",
        "                      \"encoder_type\":\"transformer\"\n",
        "                     }\n",
        "        filename=\"my_checkpoint.pth.tar\"\n",
        "        torch.save(checkpoint, filename)\n",
        "    \n",
        "    \n",
        "    # Translate the example sentence\n",
        "    translated_sentence = translate(sentence, model, tokenizer_de, source_vocab, target_vocab, device, max_length=50)\n",
        "    print(f\"Translated example:\\n {translated_sentence}\")\n",
        "    \n",
        "    # important if model.eval() was called earlier as in translate()\n",
        "    model.train()\n",
        "    \n",
        "    losses = []\n",
        "    \n",
        "    for source_batch, target_batch in train_dataloader:\n",
        "        source = source_batch.to(device)\n",
        "        target = target_batch.to(device)\n",
        "        \n",
        "        # Forward propagation\n",
        "        output = model(source, target[:-1, :])\n",
        "        # output shape: (target_len, batch_size, output_dim)\n",
        "                \n",
        "        # Exclude the start token\n",
        "        # Reshape to match the accepted input form of CrossEntropyLoss\n",
        "        # Keep the output dimention (whose size is tgt_vocab_size, for the probability of each token)...\n",
        "        # and flatten the two first dimentions\n",
        "        output = output.reshape(-1, output.shape[2])\n",
        "        target = target[1:].reshape(-1)\n",
        "        \n",
        "        optimizer.zero_grad()\n",
        "        loss = criterion(output, target)\n",
        "        losses.append(loss.item())\n",
        "        \n",
        "        # Back propagation\n",
        "        loss.backward()\n",
        "        \n",
        "        # Clip to avoid exploding gradients, makes sure grads are within a healthy range\n",
        "        torch.nn.utils.clip_grad_norm_(model.parameters(), max_norm=1)\n",
        "        \n",
        "        # Gradient descent step\n",
        "        optimizer.step()\n",
        "        \n",
        "        writer.add_scalar(\"Training Loss\", loss, global_step=step)\n",
        "        step += 1\n",
        "\n",
        "    mean_loss = sum(losses) / len(losses)\n",
        "    scheduler.step(mean_loss)"
      ]
    },
    {
      "cell_type": "markdown",
      "id": "8cb4bf77",
      "metadata": {
        "id": "8cb4bf77"
      },
      "source": [
        "# Evaluate"
      ]
    },
    {
      "cell_type": "code",
      "execution_count": null,
      "id": "eb540c35",
      "metadata": {
        "id": "eb540c35"
      },
      "outputs": [],
      "source": [
        "src_test_sentence, tgt_test_sentence = next(iter(test_iter))\n",
        "print(src_test_sentence, tgt_test_sentence, sep=\"\\n\")"
      ]
    },
    {
      "cell_type": "code",
      "execution_count": null,
      "id": "11063d2a",
      "metadata": {
        "id": "11063d2a"
      },
      "outputs": [],
      "source": [
        "checkpoint_path = \"my_checkpoint.pth.tar\"\n",
        "load_checkpoint_for_inference(model, checkpoint_path)"
      ]
    },
    {
      "cell_type": "code",
      "execution_count": null,
      "id": "24d17740",
      "metadata": {
        "id": "24d17740"
      },
      "outputs": [],
      "source": [
        "sentence = \"Ein Mann mit einem orangefarbenen Hut, der etwas anstarrt.\"\n",
        "# sentence = \"Zwei junge weiße Männer sind im Freien in der Nähe vieler Büsche.\"\n",
        "translate(sentence, model, tokenizer_de, source_vocab, target_vocab, device, max_length=50)"
      ]
    },
    {
      "cell_type": "code",
      "execution_count": null,
      "id": "9d0aa3a9",
      "metadata": {
        "id": "9d0aa3a9"
      },
      "outputs": [],
      "source": [
        "# Calculate BLEU of the test     \n",
        "score = bleu(test_iter, model, tokenizer_de, source_vocab, target_vocab, device)\n",
        "print(f\"BLEU score: {score*100:.f2}\")"
      ]
    }
  ],
  "metadata": {
    "kernelspec": {
      "display_name": "Python 3 (ipykernel)",
      "language": "python",
      "name": "python3"
    },
    "language_info": {
      "codemirror_mode": {
        "name": "ipython",
        "version": 3
      },
      "file_extension": ".py",
      "mimetype": "text/x-python",
      "name": "python",
      "nbconvert_exporter": "python",
      "pygments_lexer": "ipython3",
      "version": "3.7.5"
    },
    "colab": {
      "name": "Ex5-NMT-Transformer.ipynb",
      "provenance": [],
      "collapsed_sections": [],
      "include_colab_link": true
    },
    "accelerator": "GPU"
  },
  "nbformat": 4,
  "nbformat_minor": 5
}