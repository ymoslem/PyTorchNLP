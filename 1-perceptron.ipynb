{
  "nbformat": 4,
  "nbformat_minor": 0,
  "metadata": {
    "colab": {
      "name": "1-Perceptron.ipynb",
      "provenance": [],
      "authorship_tag": "ABX9TyNZIsTkBesj1IfYdPCFZVbz",
      "include_colab_link": true
    },
    "kernelspec": {
      "name": "python3",
      "display_name": "Python 3"
    },
    "language_info": {
      "name": "python"
    }
  },
  "cells": [
    {
      "cell_type": "markdown",
      "metadata": {
        "id": "view-in-github",
        "colab_type": "text"
      },
      "source": [
        "<a href=\"https://colab.research.google.com/github/ymoslem/PyTorchNLP/blob/main/1-Perceptron.ipynb\" target=\"_parent\"><img src=\"https://colab.research.google.com/assets/colab-badge.svg\" alt=\"Open In Colab\"/></a>"
      ]
    },
    {
      "cell_type": "code",
      "metadata": {
        "colab": {
          "base_uri": "https://localhost:8080/"
        },
        "id": "j2J9q8qq4AI3",
        "outputId": "7aad43d1-6227-47e7-edc2-2666cc27b807"
      },
      "source": [
        "import torch\n",
        "print(torch.__version__)"
      ],
      "execution_count": null,
      "outputs": [
        {
          "output_type": "stream",
          "name": "stdout",
          "text": [
            "1.9.0+cu102\n"
          ]
        }
      ]
    },
    {
      "cell_type": "code",
      "metadata": {
        "id": "RwO6lQgR4vBl",
        "colab": {
          "base_uri": "https://localhost:8080/"
        },
        "outputId": "9cf93f0a-5eb8-4ee4-9be1-8478baa9a2e7"
      },
      "source": [
        "import torch\n",
        "import torch.nn as nn\n",
        "\n",
        "class Perceptron(nn.Module):\n",
        "  \"\"\" A perceptron is one linear layer \"\"\"\n",
        "  def __init__(self, input_dim):\n",
        "    \"\"\"\n",
        "    Args:\n",
        "        input_dim (int): size of the input features\n",
        "    \"\"\"\n",
        "    super(Perceptron, self).__init__()\n",
        "    self.fcl = nn.Linear(input_dim, 1)\n",
        "\n",
        "  def forward(self, x_in):\n",
        "    \"\"\"The forward pass of the perceptron\n",
        "    \n",
        "    Args:\n",
        "        x_in (torch.Tensor): an input data tensor \n",
        "            x_in.shape should be (batch, num_features)\n",
        "    Returns:\n",
        "        the resulting tensor. tensor.shape should be (batch,).\n",
        "    \"\"\"\n",
        "    return torch.sigmoid(self.fcl(x_in)).squeeze()\n",
        "\n",
        "\n",
        "p = Perceptron(3)\n",
        "x_in = torch.tensor([[1, 2, 3], [4, 5, 6]], dtype=torch.float32)\n",
        "p.forward(x_in)"
      ],
      "execution_count": null,
      "outputs": [
        {
          "output_type": "execute_result",
          "data": {
            "text/plain": [
              "tensor([0.1744, 0.0173], grad_fn=<SqueezeBackward0>)"
            ]
          },
          "metadata": {},
          "execution_count": 4
        }
      ]
    }
  ]
}
